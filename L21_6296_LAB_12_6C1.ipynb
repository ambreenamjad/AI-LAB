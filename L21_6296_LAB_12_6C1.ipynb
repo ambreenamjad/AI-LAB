{
  "nbformat": 4,
  "nbformat_minor": 0,
  "metadata": {
    "colab": {
      "provenance": []
    },
    "kernelspec": {
      "name": "python3",
      "display_name": "Python 3"
    },
    "language_info": {
      "name": "python"
    }
  },
  "cells": [
    {
      "cell_type": "markdown",
      "source": [
        "**IMPORTING LIBRARIES**"
      ],
      "metadata": {
        "id": "pe2-hwN8noEV"
      }
    },
    {
      "cell_type": "code",
      "source": [
        "import pandas as pd\n",
        "import numpy as np\n",
        "import matplotlib.pyplot as plt\n",
        "from sklearn.linear_model import LinearRegression\n",
        "from sklearn.model_selection import train_test_split\n",
        "from sklearn.metrics import mean_absolute_error, mean_squared_error"
      ],
      "metadata": {
        "id": "iu0RnObInjok"
      },
      "execution_count": null,
      "outputs": []
    },
    {
      "cell_type": "markdown",
      "source": [
        "**READING THE DATASET**"
      ],
      "metadata": {
        "id": "RL-i_PScmLqf"
      }
    },
    {
      "cell_type": "code",
      "execution_count": null,
      "metadata": {
        "colab": {
          "base_uri": "https://localhost:8080/"
        },
        "id": "K8uGE3jUk9zG",
        "outputId": "4b2ce423-4e77-4c96-8fc4-0e69ca90e5ab"
      },
      "outputs": [
        {
          "output_type": "stream",
          "name": "stdout",
          "text": [
            "   SNo     Name Symbol                 Date        High         Low  \\\n",
            "0    1  Bitcoin    BTC  2013-04-29 23:59:59  147.488007  134.000000   \n",
            "1    2  Bitcoin    BTC  2013-04-30 23:59:59  146.929993  134.050003   \n",
            "2    3  Bitcoin    BTC  2013-05-01 23:59:59  139.889999  107.720001   \n",
            "3    4  Bitcoin    BTC  2013-05-02 23:59:59  125.599998   92.281898   \n",
            "4    5  Bitcoin    BTC  2013-05-03 23:59:59  108.127998   79.099998   \n",
            "\n",
            "         Open       Close  Volume     Marketcap  \n",
            "0  134.444000  144.539993     0.0  1.603769e+09  \n",
            "1  144.000000  139.000000     0.0  1.542813e+09  \n",
            "2  139.000000  116.989998     0.0  1.298955e+09  \n",
            "3  116.379997  105.209999     0.0  1.168517e+09  \n",
            "4  106.250000   97.750000     0.0  1.085995e+09  \n"
          ]
        }
      ],
      "source": [
        "df = pd.read_csv('12_coin_Bitcoin.csv')\n",
        "print(df.head())"
      ]
    },
    {
      "cell_type": "code",
      "source": [
        "df.describe()"
      ],
      "metadata": {
        "colab": {
          "base_uri": "https://localhost:8080/",
          "height": 300
        },
        "id": "9iNa-EkMmI_X",
        "outputId": "b0832b86-ee71-478e-c9bf-f403acab11df"
      },
      "execution_count": null,
      "outputs": [
        {
          "output_type": "execute_result",
          "data": {
            "text/plain": [
              "               SNo          High           Low          Open         Close  \\\n",
              "count  2991.000000   2991.000000   2991.000000   2991.000000   2991.000000   \n",
              "mean   1496.000000   6893.326038   6486.009539   6700.146240   6711.290443   \n",
              "std     863.571653  11642.832456  10869.032130  11288.043736  11298.141921   \n",
              "min       1.000000     74.561096     65.526001     68.504997     68.431000   \n",
              "25%     748.500000    436.179001    422.879486    430.445496    430.569489   \n",
              "50%    1496.000000   2387.610107   2178.500000   2269.889893   2286.409912   \n",
              "75%    2243.500000   8733.926948   8289.800459   8569.656494   8576.238715   \n",
              "max    2991.000000  64863.098908  62208.964366  63523.754869  63503.457930   \n",
              "\n",
              "             Volume     Marketcap  \n",
              "count  2.991000e+03  2.991000e+03  \n",
              "mean   1.090633e+10  1.208761e+11  \n",
              "std    1.888895e+10  2.109438e+11  \n",
              "min    0.000000e+00  7.784112e+08  \n",
              "25%    3.036725e+07  6.305579e+09  \n",
              "50%    9.460360e+08  3.741503e+10  \n",
              "75%    1.592015e+10  1.499957e+11  \n",
              "max    3.509679e+11  1.186364e+12  "
            ],
            "text/html": [
              "\n",
              "  <div id=\"df-3daeaf0c-2d91-403a-b0b0-316412fd049f\" class=\"colab-df-container\">\n",
              "    <div>\n",
              "<style scoped>\n",
              "    .dataframe tbody tr th:only-of-type {\n",
              "        vertical-align: middle;\n",
              "    }\n",
              "\n",
              "    .dataframe tbody tr th {\n",
              "        vertical-align: top;\n",
              "    }\n",
              "\n",
              "    .dataframe thead th {\n",
              "        text-align: right;\n",
              "    }\n",
              "</style>\n",
              "<table border=\"1\" class=\"dataframe\">\n",
              "  <thead>\n",
              "    <tr style=\"text-align: right;\">\n",
              "      <th></th>\n",
              "      <th>SNo</th>\n",
              "      <th>High</th>\n",
              "      <th>Low</th>\n",
              "      <th>Open</th>\n",
              "      <th>Close</th>\n",
              "      <th>Volume</th>\n",
              "      <th>Marketcap</th>\n",
              "    </tr>\n",
              "  </thead>\n",
              "  <tbody>\n",
              "    <tr>\n",
              "      <th>count</th>\n",
              "      <td>2991.000000</td>\n",
              "      <td>2991.000000</td>\n",
              "      <td>2991.000000</td>\n",
              "      <td>2991.000000</td>\n",
              "      <td>2991.000000</td>\n",
              "      <td>2.991000e+03</td>\n",
              "      <td>2.991000e+03</td>\n",
              "    </tr>\n",
              "    <tr>\n",
              "      <th>mean</th>\n",
              "      <td>1496.000000</td>\n",
              "      <td>6893.326038</td>\n",
              "      <td>6486.009539</td>\n",
              "      <td>6700.146240</td>\n",
              "      <td>6711.290443</td>\n",
              "      <td>1.090633e+10</td>\n",
              "      <td>1.208761e+11</td>\n",
              "    </tr>\n",
              "    <tr>\n",
              "      <th>std</th>\n",
              "      <td>863.571653</td>\n",
              "      <td>11642.832456</td>\n",
              "      <td>10869.032130</td>\n",
              "      <td>11288.043736</td>\n",
              "      <td>11298.141921</td>\n",
              "      <td>1.888895e+10</td>\n",
              "      <td>2.109438e+11</td>\n",
              "    </tr>\n",
              "    <tr>\n",
              "      <th>min</th>\n",
              "      <td>1.000000</td>\n",
              "      <td>74.561096</td>\n",
              "      <td>65.526001</td>\n",
              "      <td>68.504997</td>\n",
              "      <td>68.431000</td>\n",
              "      <td>0.000000e+00</td>\n",
              "      <td>7.784112e+08</td>\n",
              "    </tr>\n",
              "    <tr>\n",
              "      <th>25%</th>\n",
              "      <td>748.500000</td>\n",
              "      <td>436.179001</td>\n",
              "      <td>422.879486</td>\n",
              "      <td>430.445496</td>\n",
              "      <td>430.569489</td>\n",
              "      <td>3.036725e+07</td>\n",
              "      <td>6.305579e+09</td>\n",
              "    </tr>\n",
              "    <tr>\n",
              "      <th>50%</th>\n",
              "      <td>1496.000000</td>\n",
              "      <td>2387.610107</td>\n",
              "      <td>2178.500000</td>\n",
              "      <td>2269.889893</td>\n",
              "      <td>2286.409912</td>\n",
              "      <td>9.460360e+08</td>\n",
              "      <td>3.741503e+10</td>\n",
              "    </tr>\n",
              "    <tr>\n",
              "      <th>75%</th>\n",
              "      <td>2243.500000</td>\n",
              "      <td>8733.926948</td>\n",
              "      <td>8289.800459</td>\n",
              "      <td>8569.656494</td>\n",
              "      <td>8576.238715</td>\n",
              "      <td>1.592015e+10</td>\n",
              "      <td>1.499957e+11</td>\n",
              "    </tr>\n",
              "    <tr>\n",
              "      <th>max</th>\n",
              "      <td>2991.000000</td>\n",
              "      <td>64863.098908</td>\n",
              "      <td>62208.964366</td>\n",
              "      <td>63523.754869</td>\n",
              "      <td>63503.457930</td>\n",
              "      <td>3.509679e+11</td>\n",
              "      <td>1.186364e+12</td>\n",
              "    </tr>\n",
              "  </tbody>\n",
              "</table>\n",
              "</div>\n",
              "    <div class=\"colab-df-buttons\">\n",
              "\n",
              "  <div class=\"colab-df-container\">\n",
              "    <button class=\"colab-df-convert\" onclick=\"convertToInteractive('df-3daeaf0c-2d91-403a-b0b0-316412fd049f')\"\n",
              "            title=\"Convert this dataframe to an interactive table.\"\n",
              "            style=\"display:none;\">\n",
              "\n",
              "  <svg xmlns=\"http://www.w3.org/2000/svg\" height=\"24px\" viewBox=\"0 -960 960 960\">\n",
              "    <path d=\"M120-120v-720h720v720H120Zm60-500h600v-160H180v160Zm220 220h160v-160H400v160Zm0 220h160v-160H400v160ZM180-400h160v-160H180v160Zm440 0h160v-160H620v160ZM180-180h160v-160H180v160Zm440 0h160v-160H620v160Z\"/>\n",
              "  </svg>\n",
              "    </button>\n",
              "\n",
              "  <style>\n",
              "    .colab-df-container {\n",
              "      display:flex;\n",
              "      gap: 12px;\n",
              "    }\n",
              "\n",
              "    .colab-df-convert {\n",
              "      background-color: #E8F0FE;\n",
              "      border: none;\n",
              "      border-radius: 50%;\n",
              "      cursor: pointer;\n",
              "      display: none;\n",
              "      fill: #1967D2;\n",
              "      height: 32px;\n",
              "      padding: 0 0 0 0;\n",
              "      width: 32px;\n",
              "    }\n",
              "\n",
              "    .colab-df-convert:hover {\n",
              "      background-color: #E2EBFA;\n",
              "      box-shadow: 0px 1px 2px rgba(60, 64, 67, 0.3), 0px 1px 3px 1px rgba(60, 64, 67, 0.15);\n",
              "      fill: #174EA6;\n",
              "    }\n",
              "\n",
              "    .colab-df-buttons div {\n",
              "      margin-bottom: 4px;\n",
              "    }\n",
              "\n",
              "    [theme=dark] .colab-df-convert {\n",
              "      background-color: #3B4455;\n",
              "      fill: #D2E3FC;\n",
              "    }\n",
              "\n",
              "    [theme=dark] .colab-df-convert:hover {\n",
              "      background-color: #434B5C;\n",
              "      box-shadow: 0px 1px 3px 1px rgba(0, 0, 0, 0.15);\n",
              "      filter: drop-shadow(0px 1px 2px rgba(0, 0, 0, 0.3));\n",
              "      fill: #FFFFFF;\n",
              "    }\n",
              "  </style>\n",
              "\n",
              "    <script>\n",
              "      const buttonEl =\n",
              "        document.querySelector('#df-3daeaf0c-2d91-403a-b0b0-316412fd049f button.colab-df-convert');\n",
              "      buttonEl.style.display =\n",
              "        google.colab.kernel.accessAllowed ? 'block' : 'none';\n",
              "\n",
              "      async function convertToInteractive(key) {\n",
              "        const element = document.querySelector('#df-3daeaf0c-2d91-403a-b0b0-316412fd049f');\n",
              "        const dataTable =\n",
              "          await google.colab.kernel.invokeFunction('convertToInteractive',\n",
              "                                                    [key], {});\n",
              "        if (!dataTable) return;\n",
              "\n",
              "        const docLinkHtml = 'Like what you see? Visit the ' +\n",
              "          '<a target=\"_blank\" href=https://colab.research.google.com/notebooks/data_table.ipynb>data table notebook</a>'\n",
              "          + ' to learn more about interactive tables.';\n",
              "        element.innerHTML = '';\n",
              "        dataTable['output_type'] = 'display_data';\n",
              "        await google.colab.output.renderOutput(dataTable, element);\n",
              "        const docLink = document.createElement('div');\n",
              "        docLink.innerHTML = docLinkHtml;\n",
              "        element.appendChild(docLink);\n",
              "      }\n",
              "    </script>\n",
              "  </div>\n",
              "\n",
              "\n",
              "<div id=\"df-980b7464-ef64-4110-bb48-a90f6d29a680\">\n",
              "  <button class=\"colab-df-quickchart\" onclick=\"quickchart('df-980b7464-ef64-4110-bb48-a90f6d29a680')\"\n",
              "            title=\"Suggest charts\"\n",
              "            style=\"display:none;\">\n",
              "\n",
              "<svg xmlns=\"http://www.w3.org/2000/svg\" height=\"24px\"viewBox=\"0 0 24 24\"\n",
              "     width=\"24px\">\n",
              "    <g>\n",
              "        <path d=\"M19 3H5c-1.1 0-2 .9-2 2v14c0 1.1.9 2 2 2h14c1.1 0 2-.9 2-2V5c0-1.1-.9-2-2-2zM9 17H7v-7h2v7zm4 0h-2V7h2v10zm4 0h-2v-4h2v4z\"/>\n",
              "    </g>\n",
              "</svg>\n",
              "  </button>\n",
              "\n",
              "<style>\n",
              "  .colab-df-quickchart {\n",
              "      --bg-color: #E8F0FE;\n",
              "      --fill-color: #1967D2;\n",
              "      --hover-bg-color: #E2EBFA;\n",
              "      --hover-fill-color: #174EA6;\n",
              "      --disabled-fill-color: #AAA;\n",
              "      --disabled-bg-color: #DDD;\n",
              "  }\n",
              "\n",
              "  [theme=dark] .colab-df-quickchart {\n",
              "      --bg-color: #3B4455;\n",
              "      --fill-color: #D2E3FC;\n",
              "      --hover-bg-color: #434B5C;\n",
              "      --hover-fill-color: #FFFFFF;\n",
              "      --disabled-bg-color: #3B4455;\n",
              "      --disabled-fill-color: #666;\n",
              "  }\n",
              "\n",
              "  .colab-df-quickchart {\n",
              "    background-color: var(--bg-color);\n",
              "    border: none;\n",
              "    border-radius: 50%;\n",
              "    cursor: pointer;\n",
              "    display: none;\n",
              "    fill: var(--fill-color);\n",
              "    height: 32px;\n",
              "    padding: 0;\n",
              "    width: 32px;\n",
              "  }\n",
              "\n",
              "  .colab-df-quickchart:hover {\n",
              "    background-color: var(--hover-bg-color);\n",
              "    box-shadow: 0 1px 2px rgba(60, 64, 67, 0.3), 0 1px 3px 1px rgba(60, 64, 67, 0.15);\n",
              "    fill: var(--button-hover-fill-color);\n",
              "  }\n",
              "\n",
              "  .colab-df-quickchart-complete:disabled,\n",
              "  .colab-df-quickchart-complete:disabled:hover {\n",
              "    background-color: var(--disabled-bg-color);\n",
              "    fill: var(--disabled-fill-color);\n",
              "    box-shadow: none;\n",
              "  }\n",
              "\n",
              "  .colab-df-spinner {\n",
              "    border: 2px solid var(--fill-color);\n",
              "    border-color: transparent;\n",
              "    border-bottom-color: var(--fill-color);\n",
              "    animation:\n",
              "      spin 1s steps(1) infinite;\n",
              "  }\n",
              "\n",
              "  @keyframes spin {\n",
              "    0% {\n",
              "      border-color: transparent;\n",
              "      border-bottom-color: var(--fill-color);\n",
              "      border-left-color: var(--fill-color);\n",
              "    }\n",
              "    20% {\n",
              "      border-color: transparent;\n",
              "      border-left-color: var(--fill-color);\n",
              "      border-top-color: var(--fill-color);\n",
              "    }\n",
              "    30% {\n",
              "      border-color: transparent;\n",
              "      border-left-color: var(--fill-color);\n",
              "      border-top-color: var(--fill-color);\n",
              "      border-right-color: var(--fill-color);\n",
              "    }\n",
              "    40% {\n",
              "      border-color: transparent;\n",
              "      border-right-color: var(--fill-color);\n",
              "      border-top-color: var(--fill-color);\n",
              "    }\n",
              "    60% {\n",
              "      border-color: transparent;\n",
              "      border-right-color: var(--fill-color);\n",
              "    }\n",
              "    80% {\n",
              "      border-color: transparent;\n",
              "      border-right-color: var(--fill-color);\n",
              "      border-bottom-color: var(--fill-color);\n",
              "    }\n",
              "    90% {\n",
              "      border-color: transparent;\n",
              "      border-bottom-color: var(--fill-color);\n",
              "    }\n",
              "  }\n",
              "</style>\n",
              "\n",
              "  <script>\n",
              "    async function quickchart(key) {\n",
              "      const quickchartButtonEl =\n",
              "        document.querySelector('#' + key + ' button');\n",
              "      quickchartButtonEl.disabled = true;  // To prevent multiple clicks.\n",
              "      quickchartButtonEl.classList.add('colab-df-spinner');\n",
              "      try {\n",
              "        const charts = await google.colab.kernel.invokeFunction(\n",
              "            'suggestCharts', [key], {});\n",
              "      } catch (error) {\n",
              "        console.error('Error during call to suggestCharts:', error);\n",
              "      }\n",
              "      quickchartButtonEl.classList.remove('colab-df-spinner');\n",
              "      quickchartButtonEl.classList.add('colab-df-quickchart-complete');\n",
              "    }\n",
              "    (() => {\n",
              "      let quickchartButtonEl =\n",
              "        document.querySelector('#df-980b7464-ef64-4110-bb48-a90f6d29a680 button');\n",
              "      quickchartButtonEl.style.display =\n",
              "        google.colab.kernel.accessAllowed ? 'block' : 'none';\n",
              "    })();\n",
              "  </script>\n",
              "</div>\n",
              "    </div>\n",
              "  </div>\n"
            ],
            "application/vnd.google.colaboratory.intrinsic+json": {
              "type": "dataframe",
              "summary": "{\n  \"name\": \"df\",\n  \"rows\": 8,\n  \"fields\": [\n    {\n      \"column\": \"SNo\",\n      \"properties\": {\n        \"dtype\": \"number\",\n        \"std\": 1077.6660880879613,\n        \"min\": 1.0,\n        \"max\": 2991.0,\n        \"num_unique_values\": 6,\n        \"samples\": [\n          2991.0,\n          1496.0,\n          2243.5\n        ],\n        \"semantic_type\": \"\",\n        \"description\": \"\"\n      }\n    },\n    {\n      \"column\": \"High\",\n      \"properties\": {\n        \"dtype\": \"number\",\n        \"std\": 21647.721707098815,\n        \"min\": 74.56109619140625,\n        \"max\": 64863.0989077,\n        \"num_unique_values\": 8,\n        \"samples\": [\n          6893.326038383186,\n          2387.610107421875,\n          2991.0\n        ],\n        \"semantic_type\": \"\",\n        \"description\": \"\"\n      }\n    },\n    {\n      \"column\": \"Low\",\n      \"properties\": {\n        \"dtype\": \"number\",\n        \"std\": 20769.827867603337,\n        \"min\": 65.5260009765625,\n        \"max\": 62208.96436559,\n        \"num_unique_values\": 8,\n        \"samples\": [\n          6486.009538579529,\n          2178.5,\n          2991.0\n        ],\n        \"semantic_type\": \"\",\n        \"description\": \"\"\n      }\n    },\n    {\n      \"column\": \"Open\",\n      \"properties\": {\n        \"dtype\": \"number\",\n        \"std\": 21203.466864593647,\n        \"min\": 68.50499725341797,\n        \"max\": 63523.75486927,\n        \"num_unique_values\": 8,\n        \"samples\": [\n          6700.146239738725,\n          2269.889892578125,\n          2991.0\n        ],\n        \"semantic_type\": \"\",\n        \"description\": \"\"\n      }\n    },\n    {\n      \"column\": \"Close\",\n      \"properties\": {\n        \"dtype\": \"number\",\n        \"std\": 21194.740210883807,\n        \"min\": 68.43099975585938,\n        \"max\": 63503.45793019,\n        \"num_unique_values\": 8,\n        \"samples\": [\n          6711.290443071488,\n          2286.409912109375,\n          2991.0\n        ],\n        \"semantic_type\": \"\",\n        \"description\": \"\"\n      }\n    },\n    {\n      \"column\": \"Volume\",\n      \"properties\": {\n        \"dtype\": \"number\",\n        \"std\": 121973018490.31297,\n        \"min\": 0.0,\n        \"max\": 350967941479.06,\n        \"num_unique_values\": 8,\n        \"samples\": [\n          10906334004.866829,\n          946035968.0,\n          2991.0\n        ],\n        \"semantic_type\": \"\",\n        \"description\": \"\"\n      }\n    },\n    {\n      \"column\": \"Marketcap\",\n      \"properties\": {\n        \"dtype\": \"number\",\n        \"std\": 400686624763.9478,\n        \"min\": 2991.0,\n        \"max\": 1186364044140.27,\n        \"num_unique_values\": 8,\n        \"samples\": [\n          120876059112.8843,\n          37415031060.8,\n          2991.0\n        ],\n        \"semantic_type\": \"\",\n        \"description\": \"\"\n      }\n    }\n  ]\n}"
            }
          },
          "metadata": {},
          "execution_count": 16
        }
      ]
    },
    {
      "cell_type": "markdown",
      "source": [
        "**Create target column and preprocess date**"
      ],
      "metadata": {
        "id": "zIL6jl5umQN_"
      }
    },
    {
      "cell_type": "code",
      "source": [
        "# Create a target column by averaging low + high\n",
        "df['target'] = (df['High'] + df['Low']) / 2\n",
        "\n",
        "# Drop the open and close columns\n",
        "df = df.drop(['Open', 'Close'], axis=1)\n",
        "\n",
        "# Convert the Date column to datetime format and set it as the index\n",
        "df['Date'] = pd.to_datetime(df['Date'])\n",
        "df = df.set_index('Date')\n",
        "\n",
        "# Display the resulting DataFrame\n",
        "print(df.head())"
      ],
      "metadata": {
        "colab": {
          "base_uri": "https://localhost:8080/"
        },
        "id": "h-IodQ8kmQer",
        "outputId": "272cc374-55ed-4738-8347-50a1e7edddd4"
      },
      "execution_count": null,
      "outputs": [
        {
          "output_type": "stream",
          "name": "stdout",
          "text": [
            "                     SNo     Name Symbol        High         Low  Volume  \\\n",
            "Date                                                                       \n",
            "2013-04-29 23:59:59    1  Bitcoin    BTC  147.488007  134.000000     0.0   \n",
            "2013-04-30 23:59:59    2  Bitcoin    BTC  146.929993  134.050003     0.0   \n",
            "2013-05-01 23:59:59    3  Bitcoin    BTC  139.889999  107.720001     0.0   \n",
            "2013-05-02 23:59:59    4  Bitcoin    BTC  125.599998   92.281898     0.0   \n",
            "2013-05-03 23:59:59    5  Bitcoin    BTC  108.127998   79.099998     0.0   \n",
            "\n",
            "                        Marketcap      target  \n",
            "Date                                           \n",
            "2013-04-29 23:59:59  1.603769e+09  140.744003  \n",
            "2013-04-30 23:59:59  1.542813e+09  140.489998  \n",
            "2013-05-01 23:59:59  1.298955e+09  123.805000  \n",
            "2013-05-02 23:59:59  1.168517e+09  108.940948  \n",
            "2013-05-03 23:59:59  1.085995e+09   93.613998  \n"
          ]
        }
      ]
    },
    {
      "cell_type": "markdown",
      "source": [
        "**Split data into training and testing sets**"
      ],
      "metadata": {
        "id": "-QoAI5eWnYUX"
      }
    },
    {
      "cell_type": "code",
      "source": [
        "X = df.drop(['Name', 'Symbol', 'target'], axis=1)\n",
        "y = df['target']\n",
        "X_train, X_test, y_train, y_test = train_test_split(X, y, test_size=0.3, random_state=0)"
      ],
      "metadata": {
        "id": "58f9EKVnncsU"
      },
      "execution_count": null,
      "outputs": []
    },
    {
      "cell_type": "code",
      "source": [
        "print(\"y_test.head():\")\n",
        "print(y_test.head())\n",
        "print(\"\\nprint(y_test.shape):\")\n",
        "print(y_test.shape)\n",
        "print(\"\\nX_train:\")\n",
        "print(X_train)\n",
        "print(\"\\nX_test:\")\n",
        "print(X_test)\n",
        "print(\"\\ny_train:\")\n",
        "print(y_train)\n",
        "print(\"\\ny_test:\")\n",
        "print(y_test)"
      ],
      "metadata": {
        "colab": {
          "base_uri": "https://localhost:8080/"
        },
        "id": "7q7PRctNn5Z1",
        "outputId": "a3b319f0-1f69-4d9f-bbb1-6cf9d240d5b3"
      },
      "execution_count": null,
      "outputs": [
        {
          "output_type": "stream",
          "name": "stdout",
          "text": [
            "y_test.head():\n",
            "Date\n",
            "2015-11-21 23:59:59     323.876999\n",
            "2016-11-30 23:59:59     742.097015\n",
            "2016-02-16 23:59:59     405.188507\n",
            "2017-07-25 23:59:59    2624.520020\n",
            "2017-02-13 23:59:59     989.050995\n",
            "Name: target, dtype: float64\n",
            "\n",
            "print(y_test.shape):\n",
            "(898,)\n",
            "\n",
            "X_train:\n",
            "                      SNo          High           Low        Volume  \\\n",
            "Date                                                                  \n",
            "2016-04-01 23:59:59  1069    418.173004    415.830994  5.123570e+07   \n",
            "2019-06-25 23:59:59  2249  11790.916533  11007.202074  2.487968e+10   \n",
            "2016-10-17 23:59:59  1268    642.328003    638.663025  5.806360e+07   \n",
            "2019-06-20 23:59:59  2244   9594.420276   9232.484263  1.784682e+10   \n",
            "2016-10-31 23:59:59  1282    709.289001    691.682007  9.706440e+07   \n",
            "...                   ...           ...           ...           ...   \n",
            "2015-06-01 23:59:59   764    231.712997    221.296005  2.609050e+07   \n",
            "2015-08-12 23:59:59   836    270.673004    265.468994  2.681540e+07   \n",
            "2017-11-07 23:59:59  1654   7253.319824   7023.100098  2.326340e+09   \n",
            "2020-06-18 23:59:59  2608   9482.781986   9328.395595  1.777008e+10   \n",
            "2020-10-21 23:59:59  2733  13184.566173  11900.928617  4.341471e+10   \n",
            "\n",
            "                        Marketcap  \n",
            "Date                               \n",
            "2016-04-01 23:59:59  6.429594e+09  \n",
            "2019-06-25 23:59:59  2.096479e+11  \n",
            "2016-10-17 23:59:59  1.018049e+10  \n",
            "2019-06-20 23:59:59  1.693048e+11  \n",
            "2016-10-31 23:59:59  1.118185e+10  \n",
            "...                           ...  \n",
            "2015-06-01 23:59:59  3.171173e+09  \n",
            "2015-08-12 23:59:59  3.859888e+09  \n",
            "2017-11-07 23:59:59  1.190915e+11  \n",
            "2020-06-18 23:59:59  1.732567e+11  \n",
            "2020-10-21 23:59:59  2.375324e+11  \n",
            "\n",
            "[2093 rows x 5 columns]\n",
            "\n",
            "X_test:\n",
            "                      SNo         High          Low        Volume  \\\n",
            "Date                                                                \n",
            "2015-11-21 23:59:59   937   328.158997   319.595001  2.820050e+07   \n",
            "2016-11-30 23:59:59  1312   747.929016   736.265015  8.407080e+07   \n",
            "2016-02-16 23:59:59  1024   408.945007   401.432007  7.309310e+07   \n",
            "2017-07-25 23:59:59  1549  2768.080078  2480.959961  1.460090e+09   \n",
            "2017-02-13 23:59:59  1387  1002.099976   976.002014  1.006070e+08   \n",
            "...                   ...          ...          ...           ...   \n",
            "2019-03-27 23:59:59  2159  4087.066230  3977.810466  1.089713e+10   \n",
            "2016-06-01 23:59:59  1130   543.080017   525.635986  8.606180e+07   \n",
            "2019-12-28 23:59:59  2435  7399.040889  7286.905172  2.136567e+10   \n",
            "2016-09-02 23:59:59  1223   575.643005   570.810974  7.991080e+07   \n",
            "2016-04-11 23:59:59  1079   422.739014   420.532990  5.074750e+07   \n",
            "\n",
            "                        Marketcap  \n",
            "Date                               \n",
            "2015-11-21 23:59:59  4.860628e+09  \n",
            "2016-11-30 23:59:59  1.194354e+10  \n",
            "2016-02-16 23:59:59  6.201590e+09  \n",
            "2017-07-25 23:59:59  4.243379e+10  \n",
            "2017-02-13 23:59:59  1.601032e+10  \n",
            "...                           ...  \n",
            "2019-03-27 23:59:59  7.198785e+10  \n",
            "2016-06-01 23:59:59  8.381321e+09  \n",
            "2019-12-28 23:59:59  1.326591e+11  \n",
            "2016-09-02 23:59:59  9.120160e+09  \n",
            "2016-04-11 23:59:59  6.515322e+09  \n",
            "\n",
            "[898 rows x 5 columns]\n",
            "\n",
            "y_train:\n",
            "Date\n",
            "2016-04-01 23:59:59      417.001999\n",
            "2019-06-25 23:59:59    11399.059303\n",
            "2016-10-17 23:59:59      640.495514\n",
            "2019-06-20 23:59:59     9413.452269\n",
            "2016-10-31 23:59:59      700.485504\n",
            "                           ...     \n",
            "2015-06-01 23:59:59      226.504501\n",
            "2015-08-12 23:59:59      268.070999\n",
            "2017-11-07 23:59:59     7138.209961\n",
            "2020-06-18 23:59:59     9405.588791\n",
            "2020-10-21 23:59:59    12542.747395\n",
            "Name: target, Length: 2093, dtype: float64\n",
            "\n",
            "y_test:\n",
            "Date\n",
            "2015-11-21 23:59:59     323.876999\n",
            "2016-11-30 23:59:59     742.097015\n",
            "2016-02-16 23:59:59     405.188507\n",
            "2017-07-25 23:59:59    2624.520020\n",
            "2017-02-13 23:59:59     989.050995\n",
            "                          ...     \n",
            "2019-03-27 23:59:59    4032.438348\n",
            "2016-06-01 23:59:59     534.358002\n",
            "2019-12-28 23:59:59    7342.973031\n",
            "2016-09-02 23:59:59     573.226990\n",
            "2016-04-11 23:59:59     421.636002\n",
            "Name: target, Length: 898, dtype: float64\n"
          ]
        }
      ]
    },
    {
      "cell_type": "markdown",
      "source": [
        "**Apply linear regression**"
      ],
      "metadata": {
        "id": "uhwmOlfWn7BA"
      }
    },
    {
      "cell_type": "code",
      "source": [
        "model = LinearRegression()\n",
        "model.fit(X_train, y_train)\n",
        "model"
      ],
      "metadata": {
        "colab": {
          "base_uri": "https://localhost:8080/",
          "height": 75
        },
        "id": "Pz1a9IT8n_3T",
        "outputId": "5f5cae84-35b9-47c3-ce61-113528ad9a34"
      },
      "execution_count": null,
      "outputs": [
        {
          "output_type": "execute_result",
          "data": {
            "text/plain": [
              "LinearRegression()"
            ],
            "text/html": [
              "<style>#sk-container-id-1 {color: black;background-color: white;}#sk-container-id-1 pre{padding: 0;}#sk-container-id-1 div.sk-toggleable {background-color: white;}#sk-container-id-1 label.sk-toggleable__label {cursor: pointer;display: block;width: 100%;margin-bottom: 0;padding: 0.3em;box-sizing: border-box;text-align: center;}#sk-container-id-1 label.sk-toggleable__label-arrow:before {content: \"▸\";float: left;margin-right: 0.25em;color: #696969;}#sk-container-id-1 label.sk-toggleable__label-arrow:hover:before {color: black;}#sk-container-id-1 div.sk-estimator:hover label.sk-toggleable__label-arrow:before {color: black;}#sk-container-id-1 div.sk-toggleable__content {max-height: 0;max-width: 0;overflow: hidden;text-align: left;background-color: #f0f8ff;}#sk-container-id-1 div.sk-toggleable__content pre {margin: 0.2em;color: black;border-radius: 0.25em;background-color: #f0f8ff;}#sk-container-id-1 input.sk-toggleable__control:checked~div.sk-toggleable__content {max-height: 200px;max-width: 100%;overflow: auto;}#sk-container-id-1 input.sk-toggleable__control:checked~label.sk-toggleable__label-arrow:before {content: \"▾\";}#sk-container-id-1 div.sk-estimator input.sk-toggleable__control:checked~label.sk-toggleable__label {background-color: #d4ebff;}#sk-container-id-1 div.sk-label input.sk-toggleable__control:checked~label.sk-toggleable__label {background-color: #d4ebff;}#sk-container-id-1 input.sk-hidden--visually {border: 0;clip: rect(1px 1px 1px 1px);clip: rect(1px, 1px, 1px, 1px);height: 1px;margin: -1px;overflow: hidden;padding: 0;position: absolute;width: 1px;}#sk-container-id-1 div.sk-estimator {font-family: monospace;background-color: #f0f8ff;border: 1px dotted black;border-radius: 0.25em;box-sizing: border-box;margin-bottom: 0.5em;}#sk-container-id-1 div.sk-estimator:hover {background-color: #d4ebff;}#sk-container-id-1 div.sk-parallel-item::after {content: \"\";width: 100%;border-bottom: 1px solid gray;flex-grow: 1;}#sk-container-id-1 div.sk-label:hover label.sk-toggleable__label {background-color: #d4ebff;}#sk-container-id-1 div.sk-serial::before {content: \"\";position: absolute;border-left: 1px solid gray;box-sizing: border-box;top: 0;bottom: 0;left: 50%;z-index: 0;}#sk-container-id-1 div.sk-serial {display: flex;flex-direction: column;align-items: center;background-color: white;padding-right: 0.2em;padding-left: 0.2em;position: relative;}#sk-container-id-1 div.sk-item {position: relative;z-index: 1;}#sk-container-id-1 div.sk-parallel {display: flex;align-items: stretch;justify-content: center;background-color: white;position: relative;}#sk-container-id-1 div.sk-item::before, #sk-container-id-1 div.sk-parallel-item::before {content: \"\";position: absolute;border-left: 1px solid gray;box-sizing: border-box;top: 0;bottom: 0;left: 50%;z-index: -1;}#sk-container-id-1 div.sk-parallel-item {display: flex;flex-direction: column;z-index: 1;position: relative;background-color: white;}#sk-container-id-1 div.sk-parallel-item:first-child::after {align-self: flex-end;width: 50%;}#sk-container-id-1 div.sk-parallel-item:last-child::after {align-self: flex-start;width: 50%;}#sk-container-id-1 div.sk-parallel-item:only-child::after {width: 0;}#sk-container-id-1 div.sk-dashed-wrapped {border: 1px dashed gray;margin: 0 0.4em 0.5em 0.4em;box-sizing: border-box;padding-bottom: 0.4em;background-color: white;}#sk-container-id-1 div.sk-label label {font-family: monospace;font-weight: bold;display: inline-block;line-height: 1.2em;}#sk-container-id-1 div.sk-label-container {text-align: center;}#sk-container-id-1 div.sk-container {/* jupyter's `normalize.less` sets `[hidden] { display: none; }` but bootstrap.min.css set `[hidden] { display: none !important; }` so we also need the `!important` here to be able to override the default hidden behavior on the sphinx rendered scikit-learn.org. See: https://github.com/scikit-learn/scikit-learn/issues/21755 */display: inline-block !important;position: relative;}#sk-container-id-1 div.sk-text-repr-fallback {display: none;}</style><div id=\"sk-container-id-1\" class=\"sk-top-container\"><div class=\"sk-text-repr-fallback\"><pre>LinearRegression()</pre><b>In a Jupyter environment, please rerun this cell to show the HTML representation or trust the notebook. <br />On GitHub, the HTML representation is unable to render, please try loading this page with nbviewer.org.</b></div><div class=\"sk-container\" hidden><div class=\"sk-item\"><div class=\"sk-estimator sk-toggleable\"><input class=\"sk-toggleable__control sk-hidden--visually\" id=\"sk-estimator-id-1\" type=\"checkbox\" checked><label for=\"sk-estimator-id-1\" class=\"sk-toggleable__label sk-toggleable__label-arrow\">LinearRegression</label><div class=\"sk-toggleable__content\"><pre>LinearRegression()</pre></div></div></div></div></div>"
            ]
          },
          "metadata": {},
          "execution_count": 20
        }
      ]
    },
    {
      "cell_type": "markdown",
      "source": [
        "**Find error**"
      ],
      "metadata": {
        "id": "qvWlSw3uoFJ4"
      }
    },
    {
      "cell_type": "code",
      "source": [
        "y_pred = model.predict(X_test)\n",
        "mae = mean_absolute_error(y_test, y_pred)\n",
        "mse = mean_squared_error(y_test, y_pred)\n",
        "\n",
        "print('Mean Absolute Error:', mae)\n",
        "print('Mean Squared Error:', mse)"
      ],
      "metadata": {
        "colab": {
          "base_uri": "https://localhost:8080/"
        },
        "id": "DMJUUJr9oGsz",
        "outputId": "4627bd9b-f090-45ba-ea83-3321423fc03a"
      },
      "execution_count": null,
      "outputs": [
        {
          "output_type": "stream",
          "name": "stdout",
          "text": [
            "Mean Absolute Error: 2.022107095669887e-05\n",
            "Mean Squared Error: 9.030697177998291e-10\n"
          ]
        }
      ]
    },
    {
      "cell_type": "markdown",
      "source": [
        "**Draw Linear Regression Line**"
      ],
      "metadata": {
        "id": "lAQEP2SvoNzS"
      }
    },
    {
      "cell_type": "code",
      "source": [
        "plt.scatter(df.index, df['target'], color='blue')\n",
        "plt.plot(df.index, model.predict(df.drop(['Name', 'Symbol', 'target'], axis=1)), color='red')\n",
        "plt.title('Linear Regression Line')\n",
        "plt.xlabel('Date')\n",
        "plt.ylabel('Target')\n",
        "plt.show()"
      ],
      "metadata": {
        "colab": {
          "base_uri": "https://localhost:8080/",
          "height": 472
        },
        "id": "3AB2Z9QKoN_S",
        "outputId": "8194442b-64f7-4aa4-8b6e-2c76e59a82a5"
      },
      "execution_count": null,
      "outputs": [
        {
          "output_type": "display_data",
          "data": {
            "text/plain": [
              "<Figure size 640x480 with 1 Axes>"
            ],
            "image/png": "[encoded data removed]"
          },
          "metadata": {}
        }
      ]
    }
  ]
}